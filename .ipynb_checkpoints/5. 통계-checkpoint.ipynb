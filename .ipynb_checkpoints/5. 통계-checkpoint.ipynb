{
 "cells": [
  {
   "cell_type": "markdown",
   "id": "c4a69d62",
   "metadata": {},
   "source": [
    "# 5.1 데이터셋 설명"
   ]
  },
  {
   "cell_type": "code",
   "execution_count": 2,
   "id": "d6fc6ad4",
   "metadata": {},
   "outputs": [
    {
     "name": "stderr",
     "output_type": "stream",
     "text": [
      "c:\\users\\drepi\\anaconda3\\envs\\rhs\\lib\\site-packages\\numpy\\_distributor_init.py:32: UserWarning: loaded more than 1 DLL from .libs:\n",
      "c:\\users\\drepi\\anaconda3\\envs\\rhs\\lib\\site-packages\\numpy\\.libs\\libopenblas.GK7GX5KEQ4F6UYO3P26ULGBQYHGQO7J4.gfortran-win_amd64.dll\n",
      "c:\\users\\drepi\\anaconda3\\envs\\rhs\\lib\\site-packages\\numpy\\.libs\\libopenblas.WCDJNK7YVMPZQ2ME2ZZHJJRJ3JIKNDB7.gfortran-win_amd64.dll\n",
      "  stacklevel=1)\n"
     ]
    }
   ],
   "source": [
    "from collections import Counter\n",
    "import matplotlib.pyplot as plt\n",
    "num_friends = [100,49,41,40,25,21,21,19,19,18,18,16,15,15,15,15,14,14,13,13,13,13,12,12,11,\n",
    "               10,10,10,10,10,10,10,10,10,10,10,10,10,10,10,9,9,9,9,9,9,9,9,9,9,9,9,9,9,9,9,9,9,\n",
    "               8,8,8,8,8,8,8,8,8,8,8,8,8,7,7,7,7,7,7,7,7,7,7,7,7,7,7,7,\n",
    "               6,6,6,6,6,6,6,6,6,6,6,6,6,6,6,6,6,6,6,6,6,6,5,5,5,5,5,5,5,5,5,5,5,5,5,5,5,5,5,\n",
    "               4,4,4,4,4,4,4,4,4,4,4,4,4,4,4,4,4,4,4,4,3,3,3,3,3,3,3,3,3,3,3,3,3,3,3,3,3,3,3,3,\n",
    "               2,2,2,2,2,2,2,2,2,2,2,2,2,2,2,2,2,1,1,1,1,1,1,1,1,1,1,1,1,1,1,1,1,1,1,1,1,1,1]"
   ]
  },
  {
   "cell_type": "code",
   "execution_count": 5,
   "id": "5323976c",
   "metadata": {},
   "outputs": [
    {
     "data": {
      "image/png": "[encoded data removed]",
      "text/plain": [
       "<Figure size 432x288 with 1 Axes>"
      ]
     },
     "metadata": {
      "needs_background": "light"
     },
     "output_type": "display_data"
    }
   ],
   "source": [
    "friend_counts=Counter(num_friends)\n",
    "xs=range(101)\n",
    "ys=[friend_counts[x] for x in xs]\n",
    "\n",
    "plt.bar(xs,ys,color='green')\n",
    "plt.axis([0,101,0,25])\n",
    "plt.title(\"Histogram of Friends Counts\")\n",
    "plt.xlabel(\"# of friends\")\n",
    "plt.ylabel(\"# of people\")\n",
    "plt.show()"
   ]
  },
  {
   "cell_type": "code",
   "execution_count": 8,
   "id": "63f603ab",
   "metadata": {},
   "outputs": [
    {
     "name": "stdout",
     "output_type": "stream",
     "text": [
      "larg 100\n",
      "small 1\n",
      "larg 100\n",
      "small 1\n",
      "seclarg 49\n"
     ]
    }
   ],
   "source": [
    "nu_points=len(num_friends)\n",
    "largest_val=max(num_friends)\n",
    "smallest_val=min(num_friends)\n",
    "print('larg',largest_val)\n",
    "print('small',smallest_val)\n",
    "\n",
    "sorted_val=sorted(num_friends)\n",
    "smallest_val=sorted_val[0]\n",
    "seclarg_val=sorted_val[-2]\n",
    "largest_val=sorted_val[-1]\n",
    "print('larg',largest_val)\n",
    "print('small',smallest_val)\n",
    "print('seclarg',seclarg_val)"
   ]
  },
  {
   "cell_type": "markdown",
   "id": "3a8ae6df",
   "metadata": {},
   "source": [
    "# 5.1.1 중심 경향성"
   ]
  },
  {
   "cell_type": "code",
   "execution_count": 11,
   "id": "02810c0f",
   "metadata": {},
   "outputs": [
    {
     "data": {
      "text/plain": [
       "7.333333333333333"
      ]
     },
     "execution_count": 11,
     "metadata": {},
     "output_type": "execute_result"
    }
   ],
   "source": [
    "from typing import List\n",
    "\n",
    "def mean(xs: List[float])->float: # 평균값\n",
    "    return sum(xs)/len(xs)\n",
    "\n",
    "mean(num_friends)"
   ]
  },
  {
   "cell_type": "code",
   "execution_count": 16,
   "id": "1584c443",
   "metadata": {},
   "outputs": [],
   "source": [
    "def _median_odd(xs:List[float])->float: # 중앙값\n",
    "    return sorted(xs)[len(xs)//2]\n",
    "\n",
    "def _median_even(xs:List[float])->float:\n",
    "    sorted_xs=sorted(xs)\n",
    "    mid_point=len(xs)//2\n",
    "    return (sorted_xs[mid_point-1]+sorted_xs[mid_point])/2\n",
    "\n",
    "def median(v: List[float])->float:\n",
    "    return _median_even(v) if len(v)%2==0 else _median_odd(v)"
   ]
  },
  {
   "cell_type": "code",
   "execution_count": 17,
   "id": "3b390341",
   "metadata": {},
   "outputs": [
    {
     "name": "stdout",
     "output_type": "stream",
     "text": [
      "5.5\n",
      "6.0\n"
     ]
    }
   ],
   "source": [
    "print(median([1,9,2,10]))\n",
    "\n",
    "print(median(num_friends))"
   ]
  },
  {
   "cell_type": "code",
   "execution_count": 20,
   "id": "f4a0e0bb",
   "metadata": {},
   "outputs": [
    {
     "name": "stdout",
     "output_type": "stream",
     "text": [
      "1\n",
      "3\n",
      "9\n",
      "13\n"
     ]
    }
   ],
   "source": [
    "def quantile(xs: List[float],p:float)->float: # 분기\n",
    "    p_index=int(p*len(xs))\n",
    "    return sorted(xs)[p_index]\n",
    "\n",
    "print(quantile(num_friends,0.1))\n",
    "print(quantile(num_friends,0.25))\n",
    "print(quantile(num_friends,0.75))\n",
    "print(quantile(num_friends,0.9))"
   ]
  },
  {
   "cell_type": "code",
   "execution_count": 22,
   "id": "00251cb5",
   "metadata": {},
   "outputs": [
    {
     "name": "stdout",
     "output_type": "stream",
     "text": [
      "{1, 6}\n"
     ]
    }
   ],
   "source": [
    "def mode(xs:List[float])->List[float]:#최빈값\n",
    "    counts=Counter(xs)\n",
    "    max_count=max(counts.values())\n",
    "    return [x_i for x_i,count in counts.items() if count==max_count]\n",
    "\n",
    "print(set(mode(num_friends)))"
   ]
  },
  {
   "cell_type": "markdown",
   "id": "c66e61c2",
   "metadata": {},
   "source": [
    "# 5.1.2 산포도"
   ]
  },
  {
   "cell_type": "code",
   "execution_count": 23,
   "id": "6e34ca5a",
   "metadata": {},
   "outputs": [
    {
     "name": "stdout",
     "output_type": "stream",
     "text": [
      "99\n"
     ]
    }
   ],
   "source": [
    "def data_range(xs:List[float])->float:#산포도\n",
    "    return max(xs)-min(xs)\n",
    "print(data_range(num_friends))"
   ]
  },
  {
   "cell_type": "code",
   "execution_count": 41,
   "id": "c886c0ef",
   "metadata": {
    "scrolled": true
   },
   "outputs": [],
   "source": [
    "import math\n",
    "\n",
    "def dot(v, w):\n",
    "    return sum(v_i * w_i\n",
    "              for v_i, w_i in zip(v, w))\n",
    "\n",
    "def sum_of_squares(v):\n",
    "    return dot(v, v)\n",
    "def de_mean(xs:List[float])->List[float]: # 편차\n",
    "    y=mean(xs)\n",
    "    return[x-y for x in xs]\n",
    "#print(de_mean(num_friends))"
   ]
  },
  {
   "cell_type": "code",
   "execution_count": 43,
   "id": "75971e31",
   "metadata": {
    "scrolled": true
   },
   "outputs": [
    {
     "name": "stdout",
     "output_type": "stream",
     "text": [
      "81.54351395730716\n"
     ]
    }
   ],
   "source": [
    "def variance(xs:List[float])->float: #분산\n",
    "    n=len(xs)\n",
    "    deviations=de_mean(xs)\n",
    "    return sum_of_squares(deviations)/(n-1)\n",
    "print(variance(num_friends))"
   ]
  },
  {
   "cell_type": "code",
   "execution_count": 47,
   "id": "98e7545c",
   "metadata": {},
   "outputs": [
    {
     "name": "stdout",
     "output_type": "stream",
     "text": [
      "9.03014473623248\n"
     ]
    }
   ],
   "source": [
    "def standard_deviation(xs:List[float])->float:#표준편차\n",
    "    return math.sqrt(variance(xs))\n",
    "print(standard_deviation(num_friends))"
   ]
  },
  {
   "cell_type": "code",
   "execution_count": 38,
   "id": "511316f4",
   "metadata": {},
   "outputs": [
    {
     "name": "stdout",
     "output_type": "stream",
     "text": [
      "6\n"
     ]
    }
   ],
   "source": [
    "def interquartile_range(xs:List[float])->float: #분기 차이\n",
    "    return quantile(xs,0.75)-quantile(xs,0.25)\n",
    "\n",
    "print(interquartile_range(num_friends))"
   ]
  },
  {
   "cell_type": "markdown",
   "id": "1995be6f",
   "metadata": {},
   "source": [
    "# 5.2 상관관계"
   ]
  },
  {
   "cell_type": "code",
   "execution_count": 44,
   "id": "01755eb8",
   "metadata": {},
   "outputs": [],
   "source": [
    "daily_minutes = [1,68.77,51.25,52.08,38.36,44.54,57.13,51.4,41.42,31.22,34.76,54.01,38.79,47.59,49.1,\n",
    "                 27.66,41.03,36.73,48.65,28.12,46.62,35.57,32.98,35,26.07,23.77,39.73,40.57,31.65,31.21,\n",
    "                 36.32,20.45,21.93,26.02,27.34,23.49,46.94,30.5,33.8,24.23,21.4,27.94,32.24,40.57,25.07,\n",
    "                 19.42,22.39,18.42,46.96,23.72,26.41,26.97,36.76,40.32,35.02,29.47,30.2,31,38.11,38.18,\n",
    "                 36.31,21.03,30.86,36.07,28.66,29.08,37.28,15.28,24.17,22.31,30.17,25.53,19.85,35.37,\n",
    "                 44.6,17.23,13.47,26.33,35.02,32.09,24.81,19.33,28.77,24.26,31.98,25.73,24.86,16.28,\n",
    "                 34.51,15.23,39.72,40.8,26.06,35.76,34.76,16.13,44.04,18.03,19.65,32.62,35.59,39.43,\n",
    "                 14.18,35.24,40.13,41.82,35.45,36.07,43.67,24.61,20.9,21.9,18.79,27.61,27.21,26.61,\n",
    "                 29.77,20.59,27.53,13.82,33.2,25,33.1,36.65,18.63,14.87,22.2,36.81,25.53,24.62,26.25,\n",
    "                 18.21,28.08,19.42,29.79,32.8,35.99,28.32,27.79,35.88,29.06,36.28,14.1,36.63,37.49,\n",
    "                 26.9,18.58,38.48,24.48,18.95,33.55,14.24,29.04,32.51,25.63,22.22,19,32.73,15.16,13.9,\n",
    "                 27.2,32.01,29.27,33,13.74,20.42,27.32,18.23,35.35,28.48,9.08,24.62,20.12,35.26,19.92,\n",
    "                 31.02,16.49,12.16,30.7,31.22,34.65,13.13,27.51,33.2,31.57,14.1,33.42,17.44,10.12,24.42,\n",
    "                 9.82,23.39,30.93,15.03,21.67,31.09,33.29,22.61,26.89,23.48,8.38,27.81,32.35,23.84]"
   ]
  },
  {
   "cell_type": "code",
   "execution_count": 46,
   "id": "f7151ea5",
   "metadata": {},
   "outputs": [
    {
     "name": "stdout",
     "output_type": "stream",
     "text": [
      "22.425435139573064\n"
     ]
    }
   ],
   "source": [
    "def covariance(xs:List[float],ys:List[float])->float: #공분산\n",
    "    return dot(de_mean(xs),de_mean(ys))/(len(xs)-1)\n",
    "print(covariance(num_friends,daily_minutes))"
   ]
  },
  {
   "cell_type": "code",
   "execution_count": 49,
   "id": "20e959c8",
   "metadata": {},
   "outputs": [
    {
     "name": "stdout",
     "output_type": "stream",
     "text": [
      "0.24736957366478218\n"
     ]
    }
   ],
   "source": [
    "def correlation(xs:List[float],ys:List[float])->float:\n",
    "    stdev_x=standard_deviation(xs)\n",
    "    stdev_y=standard_deviation(ys)\n",
    "    if(stdev_x>0 and stdev_y>0):\n",
    "        return covariance(xs,ys)/stdev_x/stdev_y\n",
    "    else:\n",
    "        return 0\n",
    "\n",
    "print(correlation(num_friends,daily_minutes))"
   ]
  },
  {
   "cell_type": "code",
   "execution_count": 50,
   "id": "124bb72f",
   "metadata": {},
   "outputs": [
    {
     "name": "stdout",
     "output_type": "stream",
     "text": [
      "0.5736792115665573\n",
      "0.5736792115665579\n"
     ]
    }
   ],
   "source": [
    "outlier=num_friends.index(100) # 이상치\n",
    "num_friends_good=[x for i,x in enumerate(num_friends) if i!=outlier]\n",
    "daily_minutes_good=[x for i,x in enumerate(daily_minutes) if i!=outlier]\n",
    "daily_hours_good=[dm/60 for dm in daily_minutes_good]\n",
    "\n",
    "print(correlation(num_friends_good,daily_minutes_good))\n",
    "print(correlation(num_friends_good,daily_hours_good))"
   ]
  },
  {
   "cell_type": "markdown",
   "id": "d194eb6c",
   "metadata": {},
   "source": [
    "# 5.3 심슨의 역설"
   ]
  },
  {
   "cell_type": "markdown",
   "id": "d5efd6d7",
   "metadata": {},
   "source": [
    "혼재변수가 누락되 잘못된 상관관계"
   ]
  },
  {
   "cell_type": "markdown",
   "id": "4a852b15",
   "metadata": {},
   "source": [
    "# 5.4 상관관계에 대한 추가적인 경고사항"
   ]
  },
  {
   "cell_type": "markdown",
   "id": "310b4366",
   "metadata": {},
   "source": [
    "상관관계가 0이라는 것은 선형적인 관계가 없다는 것과 다른 종류의 관계가 존재할 수 있다는 뜻"
   ]
  },
  {
   "cell_type": "markdown",
   "id": "fdad2c83",
   "metadata": {},
   "source": [
    "# 5.5 상관관계와 인과관계"
   ]
  },
  {
   "cell_type": "markdown",
   "id": "e77bd5e8",
   "metadata": {},
   "source": [
    " 인과관계 확인은 무작위로 데이터 포인트를 선택해서 확인하는 방법이 있다."
   ]
  }
 ],
 "metadata": {
  "kernelspec": {
   "display_name": "Python 3 (ipykernel)",
   "language": "python",
   "name": "python3"
  },
  "language_info": {
   "codemirror_mode": {
    "name": "ipython",
    "version": 3
   },
   "file_extension": ".py",
   "mimetype": "text/x-python",
   "name": "python",
   "nbconvert_exporter": "python",
   "pygments_lexer": "ipython3",
   "version": "3.7.10"
  }
 },
 "nbformat": 4,
 "nbformat_minor": 5
}
