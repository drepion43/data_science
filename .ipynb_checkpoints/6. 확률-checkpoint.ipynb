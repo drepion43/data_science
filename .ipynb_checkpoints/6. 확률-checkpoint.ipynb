{
 "cells": [
  {
   "cell_type": "markdown",
   "id": "5c0f7623",
   "metadata": {},
   "source": [
    "# 6.1 종속성과 독립성"
   ]
  },
  {
   "cell_type": "markdown",
   "id": "d6d719d6",
   "metadata": {},
   "source": [
    "사건 A가 B에 영향을 미치면 종속 사건\n",
    "사건 A가 B에 영향을 미치지않으면 독립 사건"
   ]
  },
  {
   "cell_type": "markdown",
   "id": "5e194947",
   "metadata": {},
   "source": [
    "# 6.2 조건부 확률"
   ]
  },
  {
   "cell_type": "code",
   "execution_count": 1,
   "id": "291da000",
   "metadata": {},
   "outputs": [
    {
     "ename": "SyntaxError",
     "evalue": "invalid syntax (Temp/ipykernel_5756/2229496114.py, line 1)",
     "output_type": "error",
     "traceback": [
      "\u001b[1;36m  File \u001b[1;32m\"C:\\Users\\drepi\\AppData\\Local\\Temp/ipykernel_5756/2229496114.py\"\u001b[1;36m, line \u001b[1;32m1\u001b[0m\n\u001b[1;33m    P(E,F)=P(E)P(F)\u001b[0m\n\u001b[1;37m               ^\u001b[0m\n\u001b[1;31mSyntaxError\u001b[0m\u001b[1;31m:\u001b[0m invalid syntax\n"
     ]
    }
   ],
   "source": [
    "P(E,F)=P(E)P(F)\n",
    "P(E|F)=P(E,F)/P(F) 조건부 확률 (사건 F가 발생했을 때 E가 발생할 확률)\n",
    "P(E,F)=P(E|F)P(F)\n",
    "만약, E,F가 독립이라면\n",
    "P(E|F)=P(E)"
   ]
  },
  {
   "cell_type": "code",
   "execution_count": 2,
   "id": "2ec06f28",
   "metadata": {},
   "outputs": [],
   "source": [
    "import enum,random"
   ]
  },
  {
   "cell_type": "code",
   "execution_count": 8,
   "id": "a8f39645",
   "metadata": {},
   "outputs": [
    {
     "name": "stdout",
     "output_type": "stream",
     "text": [
      "P(both | older): 0.5007089325501317\n",
      "P(both | either): 0.3311897106109325\n"
     ]
    }
   ],
   "source": [
    "class Kid(enum.Enum):\n",
    "    BOY=0\n",
    "    GIRL=1\n",
    "def random_kid()->Kid:\n",
    "    return random.choice([Kid.BOY,Kid.GIRL])\n",
    "\n",
    "both_girls=0\n",
    "older_girl=0\n",
    "either_girl=0\n",
    "\n",
    "random.seed(0)\n",
    "\n",
    "for _ in range(10000):\n",
    "    younger=random_kid()\n",
    "    older=random_kid()\n",
    "    if older==Kid.GIRL:\n",
    "        older_girl+=1\n",
    "    if older==Kid.GIRL and younger==Kid.GIRL:\n",
    "        both_girls+=1\n",
    "    if older==Kid.GIRL or younger==Kid.GIRL:\n",
    "        either_girl+=1\n",
    "        \n",
    "print(\"P(both | older):\",both_girls/older_girl)\n",
    "print(\"P(both | either):\",both_girls/either_girl)"
   ]
  },
  {
   "cell_type": "markdown",
   "id": "46e7b234",
   "metadata": {},
   "source": [
    "# 6.3 베이즈 정리"
   ]
  },
  {
   "cell_type": "code",
   "execution_count": null,
   "id": "b3dedfeb",
   "metadata": {},
   "outputs": [],
   "source": [
    "조건부 확률을 반대로 뒤집는 것\n",
    "P(E|F)=P(F|E)P(E)/P(F)\n",
    "P(E|F)=P(F|E)P(E)/[P(F|E)P(E)+P(F|~E)P(~E)]"
   ]
  },
  {
   "cell_type": "markdown",
   "id": "5a1eca4f",
   "metadata": {},
   "source": [
    "# 6.4 확률변수"
   ]
  },
  {
   "cell_type": "code",
   "execution_count": 10,
   "id": "a74f6f83",
   "metadata": {},
   "outputs": [
    {
     "name": "stdout",
     "output_type": "stream",
     "text": [
      "range(0, 10)\n"
     ]
    }
   ],
   "source": [
    "특정 확률분포와 연관되어 있는 변수"
   ]
  },
  {
   "cell_type": "code",
   "execution_count": null,
   "id": "d0cec434",
   "metadata": {},
   "outputs": [],
   "source": []
  }
 ],
 "metadata": {
  "kernelspec": {
   "display_name": "Python 3 (ipykernel)",
   "language": "python",
   "name": "python3"
  },
  "language_info": {
   "codemirror_mode": {
    "name": "ipython",
    "version": 3
   },
   "file_extension": ".py",
   "mimetype": "text/x-python",
   "name": "python",
   "nbconvert_exporter": "python",
   "pygments_lexer": "ipython3",
   "version": "3.7.10"
  }
 },
 "nbformat": 4,
 "nbformat_minor": 5
}
