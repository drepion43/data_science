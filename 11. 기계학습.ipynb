{
 "cells": [
  {
   "cell_type": "markdown",
   "id": "a1b362a0",
   "metadata": {},
   "source": [
    "# 11.3 오버피팅, 언더피팅"
   ]
  },
  {
   "cell_type": "code",
   "execution_count": 2,
   "id": "7712a714",
   "metadata": {},
   "outputs": [],
   "source": [
    "import random\n",
    "from typing import TypeVar,List,Tuple\n",
    "X=TypeVar('X')"
   ]
  },
  {
   "cell_type": "code",
   "execution_count": 4,
   "id": "54f83708",
   "metadata": {},
   "outputs": [
    {
     "name": "stdout",
     "output_type": "stream",
     "text": [
      "750\n",
      "250\n",
      "True\n"
     ]
    }
   ],
   "source": [
    "# split data\n",
    "def split_data(data:List[X],prob:float)->Tuple[List[X],List[X]]:\n",
    "    data=data[:]\n",
    "    random.shuffle(data)\n",
    "    cut=int(len(data)*prob)\n",
    "    return data[:cut],data[cut:]\n",
    "\n",
    "data=[n for n in range(1000)]\n",
    "train,test=split_data(data,0.75)\n",
    "\n",
    "print(len(train))\n",
    "print(len(test))\n",
    "\n",
    "print(sorted(train+test)==data)"
   ]
  },
  {
   "cell_type": "code",
   "execution_count": 5,
   "id": "0c187a65",
   "metadata": {},
   "outputs": [],
   "source": [
    "Y=TypeVar('Y')"
   ]
  },
  {
   "cell_type": "code",
   "execution_count": 11,
   "id": "69cb1258",
   "metadata": {},
   "outputs": [],
   "source": [
    "# split test,train data\n",
    "def train_test_split(xs:List[X],ys:List[Y],test_pct:float)->Tuple[List[X],List[X],List[Y],List[Y]]:\n",
    "    idxs=[i for i in range(len(xs))]\n",
    "    train_idxs,test_idxs=split_data(idxs,1-test_pct)\n",
    "    \n",
    "    return ([xs[i] for i in train_idxs],\n",
    "           [xs[i] for i in test_idxs],\n",
    "           [ys[i] for i in train_idxs],\n",
    "           [ys[i] for i in test_idxs])"
   ]
  },
  {
   "cell_type": "code",
   "execution_count": 12,
   "id": "2d1a88ba",
   "metadata": {},
   "outputs": [
    {
     "name": "stdout",
     "output_type": "stream",
     "text": [
      "True\n",
      "True\n",
      "True\n",
      "True\n"
     ]
    }
   ],
   "source": [
    "xs=[x for x in range(1000)]\n",
    "ys=[2*x for x in xs]\n",
    "x_train,x_test,y_train,y_test=train_test_split(xs,ys,0.75)\n",
    "print(len(x_train)==len(y_train))\n",
    "print(len(x_test)==len(y_test))\n",
    "print(all(y==2*x for x,y in zip(x_train,y_train)))\n",
    "print(all(y==2*x for x,y in zip(x_test,y_test)))"
   ]
  },
  {
   "cell_type": "markdown",
   "id": "9df87bc7",
   "metadata": {},
   "source": [
    "# 11.4 정확도"
   ]
  },
  {
   "cell_type": "code",
   "execution_count": 21,
   "id": "f2ea7781",
   "metadata": {},
   "outputs": [
    {
     "name": "stdout",
     "output_type": "stream",
     "text": [
      "0.9935997407489924\n"
     ]
    }
   ],
   "source": [
    "def accuracy(tp:int, fp:int,fn:int,tn:int)->float:\n",
    "    correct=tp+tn\n",
    "    total=tp+fp+fn+tn\n",
    "    return correct/total\n",
    "\n",
    "print(accuracy(70,4930,1390,981070))"
   ]
  },
  {
   "cell_type": "code",
   "execution_count": 22,
   "id": "bdb1df11",
   "metadata": {},
   "outputs": [
    {
     "name": "stdout",
     "output_type": "stream",
     "text": [
      "0.014\n"
     ]
    }
   ],
   "source": [
    "# 정밀도\n",
    "def precisioin(tp:int,fp:int,fn:int,tn:int)->float:\n",
    "    return tp/(tp+fp)\n",
    "print(precisioin(70,4930,1390,981070))"
   ]
  },
  {
   "cell_type": "code",
   "execution_count": 23,
   "id": "8daa050d",
   "metadata": {},
   "outputs": [
    {
     "name": "stdout",
     "output_type": "stream",
     "text": [
      "0.04794520547945205\n"
     ]
    }
   ],
   "source": [
    "# 재현율\n",
    "def recall(tp:int,fp:int,fn:int,tn:int)->float:\n",
    "    return tp/(tp+fn)\n",
    "print(recall(70,4930,1390,981070))"
   ]
  },
  {
   "cell_type": "code",
   "execution_count": 25,
   "id": "14366046",
   "metadata": {},
   "outputs": [
    {
     "name": "stdout",
     "output_type": "stream",
     "text": [
      "0.021671826625386997\n"
     ]
    }
   ],
   "source": [
    "#조화평균\n",
    "def f1_score(tp:int,fp:int,fn:int,tn:int)->float:\n",
    "    p=precisioin(tp,fp,fn,tn)\n",
    "    r=recall(tp,fp,fn,tn)\n",
    "    \n",
    "    return 2*p*r/(p+r)\n",
    "print(f1_score(70,4930,1390,981070))"
   ]
  },
  {
   "cell_type": "markdown",
   "id": "de7e2c42",
   "metadata": {},
   "source": [
    "# 11.5 Bias-variance trandeoff"
   ]
  },
  {
   "cell_type": "markdown",
   "id": "68150b48",
   "metadata": {},
   "source": [
    "#### 언더피팅 - bias 가 크고, variance는 작다\n",
    "#### 오버피팅 - bias 가 작고, variance가 크다"
   ]
  },
  {
   "cell_type": "markdown",
   "id": "3efe55f6",
   "metadata": {},
   "source": [
    "# 11.6 특성 추출 및 선택"
   ]
  },
  {
   "cell_type": "markdown",
   "id": "4df2c3c7",
   "metadata": {},
   "source": [
    "#### 데이터의 특성 : 모델의 입력변수\n",
    "#### 데이터에 따라 데이터의 특성을 줄이는 차원축소를 적용하기도 함 "
   ]
  }
 ],
 "metadata": {
  "kernelspec": {
   "display_name": "Python 3 (ipykernel)",
   "language": "python",
   "name": "python3"
  },
  "language_info": {
   "codemirror_mode": {
    "name": "ipython",
    "version": 3
   },
   "file_extension": ".py",
   "mimetype": "text/x-python",
   "name": "python",
   "nbconvert_exporter": "python",
   "pygments_lexer": "ipython3",
   "version": "3.7.10"
  }
 },
 "nbformat": 4,
 "nbformat_minor": 5
}
