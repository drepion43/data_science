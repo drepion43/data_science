{
 "cells": [
  {
   "cell_type": "markdown",
   "metadata": {},
   "source": [
    "# 4.1 Vector"
   ]
  },
  {
   "cell_type": "code",
   "execution_count": 17,
   "metadata": {},
   "outputs": [],
   "source": [
    "from typing import List\n",
    "Vector=List[float]"
   ]
  },
  {
   "cell_type": "code",
   "execution_count": 18,
   "metadata": {},
   "outputs": [],
   "source": [
    "height_weight_age = [70, 170, 40]  \n",
    "grades = [95, 80, 75, 62]"
   ]
  },
  {
   "cell_type": "code",
   "execution_count": 19,
   "metadata": {},
   "outputs": [
    {
     "name": "stdout",
     "output_type": "stream",
     "text": [
      "[5, 7, 9]\n"
     ]
    }
   ],
   "source": [
    "def add(v:Vector, w:Vector)->Vector:\n",
    "    assert len(v)==len(w), \"vectors must be the same length\"\n",
    "    \n",
    "    return[v_i+w_i for v_i,w_i in zip(v,w)]\n",
    "assert add([1,2,3],[4,5,6]) == [5,7,9], \"add value\"\n",
    "print(add([1,2,3],[4,5,6]))"
   ]
  },
  {
   "cell_type": "code",
   "execution_count": 12,
   "metadata": {},
   "outputs": [
    {
     "name": "stdout",
     "output_type": "stream",
     "text": [
      "[1, 2, 3]\n"
     ]
    }
   ],
   "source": [
    "def subtract(v:Vector, w:Vector)->Vector:\n",
    "    assert len(v)==len(w), \"vectors must be the same length\"\n",
    "    \n",
    "    return[v_i-w_i for v_i,w_i in zip(v,w)]\n",
    "assert subtract([5,7,9],[4,5,6]) == [1,2,3], \"subtract value\"\n",
    "print(subtract([5,7,9],[4,5,6]))"
   ]
  },
  {
   "cell_type": "code",
   "execution_count": 31,
   "metadata": {},
   "outputs": [
    {
     "name": "stdout",
     "output_type": "stream",
     "text": [
      "[16, 20]\n"
     ]
    }
   ],
   "source": [
    "def vector_sum(vectors:List[Vector])->Vector:\n",
    "    assert vectors,\"no vectors provided!\"\n",
    "    \n",
    "    num_elements=len(vectors[0])\n",
    "    assert all(len(v)==num_elements for v in vectors), \"different sizes!\"\n",
    "    \n",
    "    return [sum(vector[i] for vector in vectors) for i in range(num_elements) ]\n",
    "assert vector_sum([[1,2],[3,4],[5,6],[7,8]]) == [16,20], \"vector sum value\"\n",
    "print(vector_sum([[1,2],[3,4],[5,6],[7,8]]))"
   ]
  },
  {
   "cell_type": "code",
   "execution_count": 34,
   "metadata": {},
   "outputs": [
    {
     "name": "stdout",
     "output_type": "stream",
     "text": [
      "[3, 6, 9]\n"
     ]
    }
   ],
   "source": [
    "def sclar_multiply(c:float, v:Vector)->Vector:\n",
    "    \n",
    "    return[c*v_i for v_i in v]\n",
    "print(sclar_multiply(3,[1,2,3]))"
   ]
  },
  {
   "cell_type": "code",
   "execution_count": 35,
   "metadata": {},
   "outputs": [
    {
     "name": "stdout",
     "output_type": "stream",
     "text": [
      "[3.0, 4.0]\n"
     ]
    }
   ],
   "source": [
    "def vector_mean(vectors:List[Vector])->Vector:\n",
    "    n=len(vectors)\n",
    "    return sclar_multiply(1/n,vector_sum(vectors))\n",
    "print(vector_mean([[1,2],[3,4],[5,6]]))"
   ]
  },
  {
   "cell_type": "code",
   "execution_count": 36,
   "metadata": {},
   "outputs": [
    {
     "name": "stdout",
     "output_type": "stream",
     "text": [
      "109\n"
     ]
    }
   ],
   "source": [
    "def dot(v:Vector, w:Vector)->float:\n",
    "    assert len(v)==len(w), \"vectors must be the same length\"\n",
    "    \n",
    "    return sum(v_i*w_i for v_i,w_i in zip(v,w))\n",
    "print(dot([5,7,9],[4,5,6]))"
   ]
  },
  {
   "cell_type": "code",
   "execution_count": 37,
   "metadata": {},
   "outputs": [
    {
     "name": "stdout",
     "output_type": "stream",
     "text": [
      "155\n"
     ]
    }
   ],
   "source": [
    "def sum_of_squares(v:Vector)->float:    \n",
    "    return dot(v,v)\n",
    "print(sum_of_squares([5,7,9]))"
   ]
  },
  {
   "cell_type": "code",
   "execution_count": 38,
   "metadata": {},
   "outputs": [
    {
     "name": "stdout",
     "output_type": "stream",
     "text": [
      "5.0\n"
     ]
    }
   ],
   "source": [
    "import math\n",
    "def magnitude(v:Vector)->float:\n",
    "    return math.sqrt(sum_of_squares(v))\n",
    "\n",
    "print(magnitude([3,4]))"
   ]
  },
  {
   "cell_type": "code",
   "execution_count": 39,
   "metadata": {},
   "outputs": [
    {
     "name": "stdout",
     "output_type": "stream",
     "text": [
      "77\n"
     ]
    }
   ],
   "source": [
    "def squared_dis(v:Vector,w:Vector)->float:    \n",
    "    return sum_of_squares(subtract(v,w))\n",
    "print(squared_dis([5,7,9],[1,2,3]))"
   ]
  },
  {
   "cell_type": "code",
   "execution_count": 41,
   "metadata": {},
   "outputs": [
    {
     "name": "stdout",
     "output_type": "stream",
     "text": [
      "8.774964387392123\n"
     ]
    }
   ],
   "source": [
    "def dis(v:Vector,w:Vector)->float:    \n",
    "    return magnitude(subtract(v,w))\n",
    "print(dis([5,7,9],[1,2,3]))"
   ]
  },
  {
   "cell_type": "markdown",
   "metadata": {},
   "source": [
    "# 4.2 Matrix"
   ]
  },
  {
   "cell_type": "code",
   "execution_count": 43,
   "metadata": {},
   "outputs": [],
   "source": [
    "from typing import Tuple\n",
    "Matrix=List[List[float]]"
   ]
  },
  {
   "cell_type": "code",
   "execution_count": 45,
   "metadata": {},
   "outputs": [
    {
     "name": "stdout",
     "output_type": "stream",
     "text": [
      "(2, 4)\n"
     ]
    }
   ],
   "source": [
    "def shape(A: Matrix)->Tuple[int,int]:\n",
    "    num_rows=len(A)\n",
    "    num_cols=len(A[0]) if A else 0\n",
    "    return num_rows,num_cols\n",
    "print(shape([[1,2,3,4],[5,6,7,8]]))"
   ]
  },
  {
   "cell_type": "code",
   "execution_count": 47,
   "metadata": {},
   "outputs": [
    {
     "name": "stdout",
     "output_type": "stream",
     "text": [
      "[5, 6, 7, 8]\n"
     ]
    }
   ],
   "source": [
    "def get_row(A: Matrix,i: int)->Vector:\n",
    "    return A[i]\n",
    "print(get_row([[1,2,3,4],[5,6,7,8]],1))"
   ]
  },
  {
   "cell_type": "code",
   "execution_count": 49,
   "metadata": {},
   "outputs": [
    {
     "name": "stdout",
     "output_type": "stream",
     "text": [
      "[2, 6]\n"
     ]
    }
   ],
   "source": [
    "def get_col(A: Matrix,i: int)->Vector:\n",
    "    return [A_i[i]for A_i in A ]\n",
    "print(get_col([[1,2,3,4],[5,6,7,8]],1))"
   ]
  },
  {
   "cell_type": "code",
   "execution_count": 50,
   "metadata": {},
   "outputs": [],
   "source": [
    "from typing import Callable\n",
    "def make_matrix(num_rows:int, num_cols:int, entry_fn:Callable[[int,int],float])->Matrix:\n",
    "    \n",
    "    return [[entry_fn(i, j)  \n",
    "            for j in range(num_cols)]  \n",
    "            for i in range(num_rows)] "
   ]
  },
  {
   "cell_type": "code",
   "execution_count": 51,
   "metadata": {},
   "outputs": [
    {
     "data": {
      "text/plain": [
       "[[1, 0, 0, 0, 0],\n",
       " [0, 1, 0, 0, 0],\n",
       " [0, 0, 1, 0, 0],\n",
       " [0, 0, 0, 1, 0],\n",
       " [0, 0, 0, 0, 1]]"
      ]
     },
     "execution_count": 51,
     "metadata": {},
     "output_type": "execute_result"
    }
   ],
   "source": [
    "def identity_matrix(n:int)->Matrix:\n",
    "    return make_matrix(n,n,lambda i,j:1 if i==j else 0)\n",
    "identity_matrix(5)"
   ]
  },
  {
   "cell_type": "code",
   "execution_count": 52,
   "metadata": {},
   "outputs": [],
   "source": [
    "friendships = [[0, 1, 1, 0, 0, 0, 0, 0, 0, 0], # user 0\n",
    "               [1, 0, 1, 1, 0, 0, 0, 0, 0, 0], # user 1\n",
    "               [1, 1, 0, 1, 0, 0, 0, 0, 0, 0], # user 2\n",
    "               [0, 1, 1, 0, 1, 0, 0, 0, 0, 0], # user 3\n",
    "               [0, 0, 0, 1, 0, 1, 0, 0, 0, 0], # user 4\n",
    "               [0, 0, 0, 0, 1, 0, 1, 1, 0, 0], # user 5\n",
    "               [0, 0, 0, 0, 0, 1, 0, 0, 1, 0], # user 6\n",
    "               [0, 0, 0, 0, 0, 1, 0, 0, 1, 0], # user 7\n",
    "               [0, 0, 0, 0, 0, 0, 1, 1, 0, 1], # user 8\n",
    "               [0, 0, 0, 0, 0, 0, 0, 0, 1, 0]] # user 9"
   ]
  },
  {
   "cell_type": "code",
   "execution_count": 55,
   "metadata": {},
   "outputs": [
    {
     "name": "stdout",
     "output_type": "stream",
     "text": [
      "[4, 6, 7]\n"
     ]
    }
   ],
   "source": [
    "friends_of_five=[i for i,is_friend in enumerate(friendships[5]) if is_friend]\n",
    "print(friends_of_five)"
   ]
  }
 ],
 "metadata": {
  "kernelspec": {
   "display_name": "Python 3",
   "language": "python",
   "name": "python3"
  },
  "language_info": {
   "codemirror_mode": {
    "name": "ipython",
    "version": 3
   },
   "file_extension": ".py",
   "mimetype": "text/x-python",
   "name": "python",
   "nbconvert_exporter": "python",
   "pygments_lexer": "ipython3",
   "version": "3.8.5"
  }
 },
 "nbformat": 4,
 "nbformat_minor": 4
}
