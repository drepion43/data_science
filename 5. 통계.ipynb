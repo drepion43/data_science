{
 "cells": [
  {
   "cell_type": "markdown",
   "id": "90ebbdd1",
   "metadata": {},
   "source": [
    "# 5.1 데이터셋 설명"
   ]
  },
  {
   "cell_type": "code",
   "execution_count": 2,
   "id": "96a3f175",
   "metadata": {},
   "outputs": [
    {
     "name": "stderr",
     "output_type": "stream",
     "text": [
      "c:\\users\\drepi\\anaconda3\\envs\\rhs\\lib\\site-packages\\numpy\\_distributor_init.py:32: UserWarning: loaded more than 1 DLL from .libs:\n",
      "c:\\users\\drepi\\anaconda3\\envs\\rhs\\lib\\site-packages\\numpy\\.libs\\libopenblas.GK7GX5KEQ4F6UYO3P26ULGBQYHGQO7J4.gfortran-win_amd64.dll\n",
      "c:\\users\\drepi\\anaconda3\\envs\\rhs\\lib\\site-packages\\numpy\\.libs\\libopenblas.WCDJNK7YVMPZQ2ME2ZZHJJRJ3JIKNDB7.gfortran-win_amd64.dll\n",
      "  stacklevel=1)\n"
     ]
    }
   ],
   "source": [
    "from collections import Counter\n",
    "import matplotlib.pyplot as plt\n",
    "num_friends = [100,49,41,40,25,21,21,19,19,18,18,16,15,15,15,15,14,14,13,13,13,13,12,12,11,\n",
    "               10,10,10,10,10,10,10,10,10,10,10,10,10,10,10,9,9,9,9,9,9,9,9,9,9,9,9,9,9,9,9,9,9,\n",
    "               8,8,8,8,8,8,8,8,8,8,8,8,8,7,7,7,7,7,7,7,7,7,7,7,7,7,7,7,\n",
    "               6,6,6,6,6,6,6,6,6,6,6,6,6,6,6,6,6,6,6,6,6,6,5,5,5,5,5,5,5,5,5,5,5,5,5,5,5,5,5,\n",
    "               4,4,4,4,4,4,4,4,4,4,4,4,4,4,4,4,4,4,4,4,3,3,3,3,3,3,3,3,3,3,3,3,3,3,3,3,3,3,3,3,\n",
    "               2,2,2,2,2,2,2,2,2,2,2,2,2,2,2,2,2,1,1,1,1,1,1,1,1,1,1,1,1,1,1,1,1,1,1,1,1,1,1]"
   ]
  },
  {
   "cell_type": "code",
   "execution_count": 5,
   "id": "196b05d7",
   "metadata": {},
   "outputs": [
    {
     "data": {
      "image/png": "[encoded data removed]",
      "text/plain": [
       "<Figure size 432x288 with 1 Axes>"
      ]
     },
     "metadata": {
      "needs_background": "light"
     },
     "output_type": "display_data"
    }
   ],
   "source": [
    "friend_counts=Counter(num_friends)\n",
    "xs=range(101)\n",
    "ys=[friend_counts[x] for x in xs]\n",
    "\n",
    "plt.bar(xs,ys,color='green')\n",
    "plt.axis([0,101,0,25])\n",
    "plt.title(\"Histogram of Friends Counts\")\n",
    "plt.xlabel(\"# of friends\")\n",
    "plt.ylabel(\"# of people\")\n",
    "plt.show()"
   ]
  },
  {
   "cell_type": "code",
   "execution_count": 8,
   "id": "6ae86f8d",
   "metadata": {},
   "outputs": [
    {
     "name": "stdout",
     "output_type": "stream",
     "text": [
      "larg 100\n",
      "small 1\n",
      "larg 100\n",
      "small 1\n",
      "seclarg 49\n"
     ]
    }
   ],
   "source": [
    "nu_points=len(num_friends)\n",
    "largest_val=max(num_friends)\n",
    "smallest_val=min(num_friends)\n",
    "print('larg',largest_val)\n",
    "print('small',smallest_val)\n",
    "\n",
    "sorted_val=sorted(num_friends)\n",
    "smallest_val=sorted_val[0]\n",
    "seclarg_val=sorted_val[-2]\n",
    "largest_val=sorted_val[-1]\n",
    "print('larg',largest_val)\n",
    "print('small',smallest_val)\n",
    "print('seclarg',seclarg_val)"
   ]
  },
  {
   "cell_type": "markdown",
   "id": "e7ab658a",
   "metadata": {},
   "source": [
    "# 5.1.1 중심 경향성"
   ]
  },
  {
   "cell_type": "code",
   "execution_count": 11,
   "id": "9fa42a93",
   "metadata": {},
   "outputs": [
    {
     "data": {
      "text/plain": [
       "7.333333333333333"
      ]
     },
     "execution_count": 11,
     "metadata": {},
     "output_type": "execute_result"
    }
   ],
   "source": [
    "from typing import List\n",
    "\n",
    "def mean(xs: List[float])->float: # 평균값\n",
    "    return sum(xs)/len(xs)\n",
    "\n",
    "mean(num_friends)"
   ]
  },
  {
   "cell_type": "code",
   "execution_count": 16,
   "id": "878b455b",
   "metadata": {},
   "outputs": [],
   "source": [
    "def _median_odd(xs:List[float])->float: # 중앙값\n",
    "    return sorted(xs)[len(xs)//2]\n",
    "\n",
    "def _median_even(xs:List[float])->float:\n",
    "    sorted_xs=sorted(xs)\n",
    "    mid_point=len(xs)//2\n",
    "    return (sorted_xs[mid_point-1]+sorted_xs[mid_point])/2\n",
    "\n",
    "def median(v: List[float])->float:\n",
    "    return _median_even(v) if len(v)%2==0 else _median_odd(v)"
   ]
  },
  {
   "cell_type": "code",
   "execution_count": 17,
   "id": "7f042b83",
   "metadata": {},
   "outputs": [
    {
     "name": "stdout",
     "output_type": "stream",
     "text": [
      "5.5\n",
      "6.0\n"
     ]
    }
   ],
   "source": [
    "print(median([1,9,2,10]))\n",
    "\n",
    "print(median(num_friends))"
   ]
  },
  {
   "cell_type": "code",
   "execution_count": 20,
   "id": "dfb17990",
   "metadata": {},
   "outputs": [
    {
     "name": "stdout",
     "output_type": "stream",
     "text": [
      "1\n",
      "3\n",
      "9\n",
      "13\n"
     ]
    }
   ],
   "source": [
    "def quantile(xs: List[float],p:float)->float: # 분기\n",
    "    p_index=int(p*len(xs))\n",
    "    return sorted(xs)[p_index]\n",
    "\n",
    "print(quantile(num_friends,0.1))\n",
    "print(quantile(num_friends,0.25))\n",
    "print(quantile(num_friends,0.75))\n",
    "print(quantile(num_friends,0.9))"
   ]
  },
  {
   "cell_type": "code",
   "execution_count": 22,
   "id": "911b17da",
   "metadata": {},
   "outputs": [
    {
     "name": "stdout",
     "output_type": "stream",
     "text": [
      "{1, 6}\n"
     ]
    }
   ],
   "source": [
    "def mode(xs:List[float])->List[float]:#최빈값\n",
    "    counts=Counter(xs)\n",
    "    max_count=max(counts.values())\n",
    "    return [x_i for x_i,count in counts.items() if count==max_count]\n",
    "\n",
    "print(set(mode(num_friends)))"
   ]
  },
  {
   "cell_type": "code",
   "execution_count": null,
   "id": "bd0f6d74",
   "metadata": {},
   "outputs": [],
   "source": []
  }
 ],
 "metadata": {
  "kernelspec": {
   "display_name": "Python 3 (ipykernel)",
   "language": "python",
   "name": "python3"
  },
  "language_info": {
   "codemirror_mode": {
    "name": "ipython",
    "version": 3
   },
   "file_extension": ".py",
   "mimetype": "text/x-python",
   "name": "python",
   "nbconvert_exporter": "python",
   "pygments_lexer": "ipython3",
   "version": "3.7.10"
  }
 },
 "nbformat": 4,
 "nbformat_minor": 5
}
