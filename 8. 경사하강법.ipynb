{
 "cells": [
  {
   "cell_type": "markdown",
   "id": "e7f443d9",
   "metadata": {},
   "source": [
    "# 경사하강법"
   ]
  },
  {
   "cell_type": "code",
   "execution_count": 3,
   "id": "bf5010c3",
   "metadata": {},
   "outputs": [],
   "source": [
    "from typing import List\n",
    "Vector=List[float]\n",
    "def sum_of_squares(v:Vector)->float:\n",
    "    return sum(v_i ** 2 for v_i in v)"
   ]
  },
  {
   "cell_type": "markdown",
   "id": "b6084e99",
   "metadata": {},
   "source": [
    "# 8.2 그래디언트 계산하기"
   ]
  },
  {
   "cell_type": "code",
   "execution_count": 13,
   "id": "79605513",
   "metadata": {},
   "outputs": [],
   "source": [
    "from typing import Callable\n",
    "def difference_quotient(f: Callable[[float],float],x:float,h:float)->float:\n",
    "    return (f(x+h)-f(x))/h\n",
    "def square(x:float)->float:\n",
    "    return x*x\n",
    "\n",
    "def derivative(x:float)->float:\n",
    "    return 2*x"
   ]
  },
  {
   "cell_type": "code",
   "execution_count": 14,
   "id": "6db96ea7",
   "metadata": {},
   "outputs": [
    {
     "name": "stdout",
     "output_type": "stream",
     "text": [
      "[-19.998999999984335, -17.998999999988996, -15.999000000007868, -13.999000000005424, -11.99900000000298, -9.999000000004088, -7.998999999999867, -5.998999999999199, -3.9989999999994197, -1.998999999999973, 0.001, 2.0009999999996975, 4.000999999999699, 6.000999999999479, 8.0010000000037, 10.001000000002591, 12.001000000005035, 14.00100000000748, 16.000999999988608, 18.000999999983947, 20.000999999993496]\n"
     ]
    },
    {
     "data": {
      "image/png": "[encoded data removed]",
      "text/plain": [
       "<Figure size 432x288 with 1 Axes>"
      ]
     },
     "metadata": {
      "needs_background": "light"
     },
     "output_type": "display_data"
    }
   ],
   "source": [
    "# 도함수 근사값\n",
    "xs=range(-10,11)\n",
    "actuals=[derivative(x) for x in xs]\n",
    "estimates=[difference_quotient(square,x,h=0.001) for x in xs]\n",
    "\n",
    "import matplotlib.pyplot as plt\n",
    "plt.title(\"Actual Derivatives vs. Estimates\")\n",
    "plt.plot(xs,actuals,'rx',label='Acutal')\n",
    "plt.plot(xs,estimates,'b+',label='Estimate')\n",
    "plt.legend(loc=9)\n",
    "plt.show()"
   ]
  },
  {
   "cell_type": "code",
   "execution_count": 15,
   "id": "1b7cf80a",
   "metadata": {},
   "outputs": [],
   "source": [
    "def partial_differene_quotient(f:Callable[[Vector],float],v:Vector,i:int,h:float)->float:\n",
    "    w=[v_j + (h if j == i else 0) for j,v_j in enumerate(v)]\n",
    "    return (f(w)-f(v))/h\n",
    "\n",
    "def estimate_gradient(f:Callable[[Vector],float],v:Vector,h:float=0.0001):\n",
    "    return [partial_difference_quotient(f,v,i,h) for i in range(len(v))]"
   ]
  },
  {
   "cell_type": "markdown",
   "id": "d5276895",
   "metadata": {},
   "source": [
    "# 8.3 그래디언트 적용하기"
   ]
  },
  {
   "cell_type": "markdown",
   "id": "a64b2ec3",
   "metadata": {},
   "source": [
    "# 8.5 경사하강법으로 모델 학습"
   ]
  }
 ],
 "metadata": {
  "kernelspec": {
   "display_name": "Python 3 (ipykernel)",
   "language": "python",
   "name": "python3"
  },
  "language_info": {
   "codemirror_mode": {
    "name": "ipython",
    "version": 3
   },
   "file_extension": ".py",
   "mimetype": "text/x-python",
   "name": "python",
   "nbconvert_exporter": "python",
   "pygments_lexer": "ipython3",
   "version": "3.7.10"
  }
 },
 "nbformat": 4,
 "nbformat_minor": 5
}
